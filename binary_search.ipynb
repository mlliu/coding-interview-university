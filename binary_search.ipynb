{
 "cells": [
  {
   "cell_type": "code",
   "execution_count": null,
   "metadata": {},
   "outputs": [],
   "source": [
    "#原来是少了两个ｒｅｔｕｒｎ"
   ]
  },
  {
   "cell_type": "code",
   "execution_count": 52,
   "metadata": {},
   "outputs": [],
   "source": [
    "\n",
    "\n",
    "def binarysearch(key,minpoint,maxpoint,array=[]):\n",
    "  \n",
    "    if minpoint>maxpoint:\n",
    "        \n",
    "        return -1\n",
    "    else: \n",
    "        midpoint = int((minpoint+maxpoint)/2)\n",
    "        \n",
    "    if array[midpoint] < key:\n",
    "        #print(minpoint,midpoint,maxpoint,array[midpoint])\n",
    "        binarysearch(key,midpoint+1,maxpoint,array)\n",
    "    elif array[midpoint] > key:\n",
    "        #print(minpoint,midpoint,maxpoint,array[midpoint])\n",
    "        binarysearch(key,minpoint,midpoint-1,array)\n",
    "    else:\n",
    "        #print(minpoint,midpoint,maxpoint,array[midpoint])\n",
    "        print(midpoint)\n",
    "        #num=midpoint\n",
    "        #return True #递归里面不能return吗，“尾递归优化”？？？\n",
    "    "
   ]
  },
  {
   "cell_type": "code",
   "execution_count": 66,
   "metadata": {},
   "outputs": [],
   "source": [
    "def binarysearch(key,minpoint,maxpoint,array=[]):\n",
    "  \n",
    "    if minpoint>maxpoint:\n",
    "        \n",
    "        return -1\n",
    "    else: \n",
    "        midpoint = int((minpoint+maxpoint)/2)\n",
    "    \n",
    "    if array[midpoint] == key:\n",
    "        print(midpoint)\n",
    "        return midpoint\n",
    "        \n",
    "    elif array[midpoint] < key:\n",
    "        #print(minpoint,midpoint,maxpoint,array[midpoint])\n",
    "        return binarysearch(key,midpoint+1,maxpoint,array)\n",
    "    else:\n",
    "        #print(minpoint,midpoint,maxpoint,array[midpoint])\n",
    "        return binarysearch(key,minpoint,midpoint-1,array)\n",
    "   "
   ]
  },
  {
   "cell_type": "code",
   "execution_count": 67,
   "metadata": {},
   "outputs": [
    {
     "name": "stdout",
     "output_type": "stream",
     "text": [
      "24\n",
      "24\n"
     ]
    }
   ],
   "source": [
    "primes = [2, 3, 5, 7, 11, 13, 17, 19, 23, 29, 31, 37, 41, 43, 47, 53, 59, 61, 67, 71, 73, 79, 83, 89, 97];\n",
    "\n",
    "prime = binarysearch(97,0,len(primes)-1,primes)\n",
    "print(prime)\n"
   ]
  },
  {
   "cell_type": "code",
   "execution_count": 1,
   "metadata": {},
   "outputs": [
    {
     "data": {
      "text/plain": [
       "3"
      ]
     },
     "execution_count": 1,
     "metadata": {},
     "output_type": "execute_result"
    }
   ],
   "source": [
    "int(3.5)"
   ]
  },
  {
   "cell_type": "code",
   "execution_count": 32,
   "metadata": {},
   "outputs": [
    {
     "data": {
      "text/plain": [
       "25"
      ]
     },
     "execution_count": 32,
     "metadata": {},
     "output_type": "execute_result"
    }
   ],
   "source": [
    "len(primes)"
   ]
  },
  {
   "cell_type": "code",
   "execution_count": 56,
   "metadata": {},
   "outputs": [],
   "source": [
    "def HalfSearch(OrderedList, key, left , right):\n",
    "    if left > right:\n",
    "        return None\n",
    "    mid = (left + right) // 2\n",
    "    if key == OrderedList[mid]:\n",
    "        return mid\n",
    "    elif key > OrderedList[mid]:\n",
    "        return HalfSearch(OrderedList, key, mid + 1, right)\n",
    "    else:\n",
    "        return HalfSearch(OrderedList, key, left, mid - 1)\n"
   ]
  },
  {
   "cell_type": "code",
   "execution_count": 57,
   "metadata": {},
   "outputs": [
    {
     "data": {
      "text/plain": [
       "18"
      ]
     },
     "execution_count": 57,
     "metadata": {},
     "output_type": "execute_result"
    }
   ],
   "source": [
    "primes = [2, 3, 5, 7, 11, 13, 17, 19, 23, 29, 31, 37, 41, 43, 47, 53, 59, 61, 67, 71, 73, 79, 83, 89, 97];\n",
    "\n",
    "HalfSearch(primes,67,0,len(primes)-1)\n"
   ]
  },
  {
   "cell_type": "code",
   "execution_count": null,
   "metadata": {},
   "outputs": [],
   "source": []
  }
 ],
 "metadata": {
  "kernelspec": {
   "display_name": "Python 2",
   "language": "python",
   "name": "python2"
  },
  "language_info": {
   "codemirror_mode": {
    "name": "ipython",
    "version": 2
   },
   "file_extension": ".py",
   "mimetype": "text/x-python",
   "name": "python",
   "nbconvert_exporter": "python",
   "pygments_lexer": "ipython2",
   "version": "2.7.17"
  }
 },
 "nbformat": 4,
 "nbformat_minor": 2
}
