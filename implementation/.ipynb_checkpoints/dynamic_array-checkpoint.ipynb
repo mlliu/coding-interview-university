{
 "cells": [
  {
   "cell_type": "code",
   "execution_count": null,
   "metadata": {},
   "outputs": [],
   "source": [
    "summary\n",
    "#pre：类似任务代码 https://www.cnblogs.com/zhanyifan/p/9746610.html\n",
    "#1.关于编写class 面向对象编程  需整理\n",
    "#2.关于raise exception and 捕获异常\n",
    "#2. 先自行定义异常\n",
    "#3.使用C语言中的ctype\n",
    "#4.关于函数的return https://www.zlovezl.cn/articles/function-returning-tips/#%E7%BC%96%E7%A8%8B%E5%BB%BA%E8%AE%AE\n",
    "#4，函数没有return，默认return一个None，list.append()就是这种类型，这个操作函数不需要返回值"
   ]
  },
  {
   "cell_type": "code",
   "execution_count": 89,
   "metadata": {},
   "outputs": [],
   "source": [
    "from ctypes import *\n",
    "from __future__ import print_function #解决print问题\n",
    "\n",
    "#自定义异常\n",
    "class SizeError(Exception):\n",
    "    pass\n",
    "    \n",
    "class dynamicarr(object):\n",
    "    \n",
    "    def __init__(self):  \n",
    "        self.size = 0\n",
    "        self.capacity = 16 #初始为16\n",
    "        self.arr = (c_int*self.capacity)() #初始创建数组，使用c语言中的int\n",
    "\n",
    "    def myget(self,i):\n",
    "        if i <0 or i>=self.size:\n",
    "            raise SizeError(\"index out of range\") #使用自定义的异常 抛出异常\n",
    "        return self.arr[i]\n",
    "    \n",
    "    def myset(self,i,val):\n",
    "        if i <0 or i>=self.size:\n",
    "            raise SizeError(\"index out of range\")#使用自定义的异常 抛出异常 后面需要写一个try except 捕获异常\n",
    "        self.arr[i] = val\n",
    "        #return self.arr #不需要return\n",
    "        \n",
    "    def mypushback(self,val):\n",
    "        if self.size == self.capacity:\n",
    "            self.capacity = 2*self.capacity\n",
    "            new_arr = (c_int*self.capacity)()\n",
    "            for i in range(0, self.size-1):\n",
    "                new_arr[i] = self.arr[i]\n",
    "            #free(self.arr)#python怎么解决 也不需要free\n",
    "            self.arr = new_arr\n",
    "            \n",
    "            \n",
    "        self.arr[self.size] = val\n",
    "        self.size=self.size+1\n",
    "        #return self.arr\n",
    "        \n",
    "    def myremove(self,i):\n",
    "        if i <0 or i>=self.size:\n",
    "            raise SizeError(\"index out of range\")\n",
    "        for j in range(i, self.size-2):\n",
    "            self.arr[j] = self.arr[j+1]\n",
    "        size = size-1\n",
    "        #return self.arr\n",
    "        \n",
    "    \n",
    "    def myprint(self):\n",
    "        for i in range (0,self.size-1):\n",
    "            print(self.arr[i], end = ' ')\n",
    "        print()\n",
    "        \n",
    "    \n",
    "        \n",
    "        "
   ]
  },
  {
   "cell_type": "code",
   "execution_count": 90,
   "metadata": {},
   "outputs": [
    {
     "data": {
      "text/plain": [
       "5"
      ]
     },
     "execution_count": 90,
     "metadata": {},
     "output_type": "execute_result"
    }
   ],
   "source": [
    "myarr = dynamicarr()\n",
    "myarr.mypushback(0)\n",
    "myarr.myget(0)\n",
    "\n",
    "myarr.mypushback(1)\n",
    "myarr.mypushback(2)\n",
    "myarr.mypushback(5)\n",
    "myarr.myget(3)\n",
    "\n"
   ]
  },
  {
   "cell_type": "code",
   "execution_count": 91,
   "metadata": {},
   "outputs": [],
   "source": [
    "myarr.myset(0,9)"
   ]
  },
  {
   "cell_type": "code",
   "execution_count": 92,
   "metadata": {},
   "outputs": [
    {
     "data": {
      "text/plain": [
       "9"
      ]
     },
     "execution_count": 92,
     "metadata": {},
     "output_type": "execute_result"
    }
   ],
   "source": [
    "myarr.myget(0)"
   ]
  },
  {
   "cell_type": "code",
   "execution_count": 93,
   "metadata": {},
   "outputs": [],
   "source": [
    "for num in range(0,16):\n",
    "    myarr.mypushback(5)\n",
    "    "
   ]
  },
  {
   "cell_type": "code",
   "execution_count": 94,
   "metadata": {},
   "outputs": [
    {
     "name": "stdout",
     "output_type": "stream",
     "text": [
      "9 1 2 5 5 5 5 5 5 5 5 5 5 5 5 0 5 5 5 \n"
     ]
    }
   ],
   "source": [
    "myarr.myprint()"
   ]
  },
  {
   "cell_type": "code",
   "execution_count": 98,
   "metadata": {},
   "outputs": [
    {
     "name": "stdout",
     "output_type": "stream",
     "text": [
      "index out of range\n"
     ]
    }
   ],
   "source": [
    "#myarr.myget(128)\n",
    "try:\n",
    "    myarr.myget(128)\n",
    "except SizeError as e:\n",
    "    print(e)\n",
    "    "
   ]
  },
  {
   "cell_type": "code",
   "execution_count": null,
   "metadata": {},
   "outputs": [],
   "source": []
  }
 ],
 "metadata": {
  "kernelspec": {
   "display_name": "Python 2",
   "language": "python",
   "name": "python2"
  },
  "language_info": {
   "codemirror_mode": {
    "name": "ipython",
    "version": 2
   },
   "file_extension": ".py",
   "mimetype": "text/x-python",
   "name": "python",
   "nbconvert_exporter": "python",
   "pygments_lexer": "ipython2",
   "version": "2.7.17"
  }
 },
 "nbformat": 4,
 "nbformat_minor": 2
}
