{
 "cells": [
  {
   "cell_type": "code",
   "execution_count": null,
   "metadata": {},
   "outputs": [],
   "source": [
    "#the implementation of linked list with tail in python\n",
    "#1.node.nextpointer = newnode 这样就是传播指针啦\n",
    "#python里所有的变量其实都是对象的引用（连基本类型都是如此），而这个引用，说白了就是个指向实例的指针。\n",
    "#所以并不是没有指针，而是全都是指针只不过你看不出来而已\n"
   ]
  },
  {
   "cell_type": "code",
   "execution_count": 117,
   "metadata": {},
   "outputs": [],
   "source": [
    "class creatnode(object):\n",
    "    def __init__(self,key,nextpointer=None):\n",
    "        self.key = key\n",
    "        self.nextpointer = nextpointer\n",
    "\n",
    "class myerror(Exception):\n",
    "    pass"
   ]
  },
  {
   "cell_type": "code",
   "execution_count": 1,
   "metadata": {},
   "outputs": [],
   "source": [
    "from __future__ import print_function #解决print问题\n",
    "class linkedlist(object):\n",
    "    def __init__(self):\n",
    "        self.size = 0\n",
    "        self.head = None\n",
    "        self.tail = None\n",
    "        \n",
    "    def mysize(self):  # linked list 的大小\n",
    "        return self.size\n",
    "    \n",
    "    def myempty(self):   #linked list 是否为空\n",
    "        tag = False\n",
    "        if self.head == None:\n",
    "            tag = True\n",
    "        return tag\n",
    "    \n",
    "    def pushfront(self,key):#add to front\n",
    "        node = creatnode(key,self.head) #新node指向原先的第一个element\n",
    "        self.head = node #head指向新node\n",
    "        \n",
    "        self.size = self.size+1 #elements 的数目增加一个\n",
    "        \n",
    "        if self.tail == None: ##原先的list为空\n",
    "            self.tail = node\n",
    "    \n",
    "            \n",
    "    def popfront(self): #remove front item\n",
    "        #if empty\n",
    "        if self.myempty():\n",
    "            raise myerror(\"the linked list is empty\") #如果出现错误，到这一步就停止啦\n",
    "        \n",
    "        value = self.head.key\n",
    "        self.head = self.head.nextpointer\n",
    "        self.size -=1\n",
    "        if self.myempty():  #如果remove后为空\n",
    "            self.tail = None\n",
    "        return value\n",
    "    \n",
    "       #add to back     \n",
    "    def pushback(self,key):\n",
    "        node = creatnode(key,None)\n",
    "        if self.tail == None:#only one element\n",
    "            self.head = self.tail = node\n",
    "        else:\n",
    "            self.tail.nextpointer = node\n",
    "            self.tail = node\n",
    "        self.size +=1\n",
    "        '''\n",
    "        这样写会在push第一个element的时候出现错误\n",
    "        AttributeError: 'NoneType' object has no attribute 'nextpointer'\n",
    "\n",
    "        self.tail.nextpointer = node\n",
    "        self.tail = node\n",
    "        self.size +=1\n",
    "        \n",
    "        if myempty(): #其实是pushback之前的list是空，则要注意改变head的pointer\n",
    "            head = node\n",
    "        '''\n",
    "    #remove end item and return it's value\n",
    "    def popback(self):\n",
    "        if self.myempty():\n",
    "            raise myerror(\"the linked list is empty\")\n",
    "        value = self.tail.key\n",
    "        if self.head == self.tail:#此时只有一个element\n",
    "            self.head =self.tail = None\n",
    "        else:\n",
    "            p = self.head\n",
    "            while p.nextpointer.nextpointer != None:#找到最后一个element的前一个element\n",
    "                p = p.nextpointer\n",
    "            p.nextpointer = None\n",
    "            self.tail = p\n",
    "            self.size -=1\n",
    "    \n",
    "        return value\n",
    "    \n",
    "    #get value of front item\n",
    "    def front(self):\n",
    "        if self.myempty():\n",
    "            raise myerror(\"the linked list is empty\")\n",
    "        return self.head.key\n",
    "    #get value of end item\n",
    "    def back():\n",
    "        \n",
    "        if self.myempty():\n",
    "            raise myerror(\"the linked list is empty\")\n",
    "        return self.tail.key\n",
    "\n",
    "        \n",
    "    #print the whole list\n",
    "    def printlist(self):\n",
    "        if self.myempty():\n",
    "            raise myerror(\"the linked list is empty\")\n",
    "        p = self.head\n",
    "        \n",
    "        while p.nextpointer != None:\n",
    "            print(p.key,end = ' ')\n",
    "            p = p.nextpointer\n",
    "            \n",
    "        print(p.key)\n",
    "        \n",
    "    #find key O(n),return index and node (pointer or dress)\n",
    "    def find(self,key_value):\n",
    "        if self.myempty():\n",
    "            raise myerror(\"the linked list is error\")\n",
    "        current = self.head#从head开始遍历\n",
    "      \n",
    "        tag = False\n",
    "        for index in range(0,self.size):#遍历\n",
    "            \n",
    "            if current.key == key_value:\n",
    "                tag = True\n",
    "                break\n",
    "            else:\n",
    "                current = current.nextpointer\n",
    "                \n",
    "        if tag == False:\n",
    "            index =  False\n",
    "            current = None\n",
    "            \n",
    "        return index,current\n",
    "    \n",
    "    #insert a node at position after the node　\n",
    "    def insert(self,node,key_value):\n",
    "        if self.myempty():\n",
    "            newnode = creatnode(key_value,None)\n",
    "            self.head = self.tail = newnode\n",
    "            self.size += 1\n",
    "        elif node.nextpointer ==None:\n",
    "            newnode = creatnode(key_value,None)\n",
    "            node.nextpointer = newnode\n",
    "            self.tail = newnode\n",
    "            self.size += 1\n",
    "        else:\n",
    "            newnode = creatnode(key_value,node.nextpointer)\n",
    "            node.nextpointer = newnode\n",
    "            self.size += 1\n",
    "            \n",
    "                "
   ]
  },
  {
   "cell_type": "code",
   "execution_count": 115,
   "metadata": {},
   "outputs": [
    {
     "name": "stdout",
     "output_type": "stream",
     "text": [
      "<__main__.creatnode object at 0x7efd5035c290>\n",
      "35 34\n",
      "35\n"
     ]
    }
   ],
   "source": [
    "'''\n",
    "#test pushfront and popfront\n",
    "mylist = linkedlist()\n",
    "mylist.mysize()\n",
    "mylist.pushfront(34)\n",
    "mylist.pushfront(35)\n",
    "print(mylist.head)#这个pointer就是第一个node的地址，python里面全部都是对像的引用，都是指针\n",
    "mylist.printlist()\n",
    "print(mylist.head.key)\n",
    "'''"
   ]
  },
  {
   "cell_type": "code",
   "execution_count": 77,
   "metadata": {},
   "outputs": [
    {
     "name": "stdout",
     "output_type": "stream",
     "text": [
      "the linked list is empty\n"
     ]
    }
   ],
   "source": [
    "'''\n",
    "\n",
    "#test myerror\n",
    "mylist = linkedlist()\n",
    "try:\n",
    "    mylist.popfront()\n",
    "except myerror as e:\n",
    "    print(e)\n",
    "    '''"
   ]
  },
  {
   "cell_type": "code",
   "execution_count": 93,
   "metadata": {},
   "outputs": [
    {
     "name": "stdout",
     "output_type": "stream",
     "text": [
      "34 35 36\n",
      "36\n",
      "35\n",
      "34\n"
     ]
    },
    {
     "ename": "myerror",
     "evalue": "the linked list is empty",
     "output_type": "error",
     "traceback": [
      "\u001b[0;31m---------------------------------------------------------------------------\u001b[0m",
      "\u001b[0;31mmyerror\u001b[0m                                   Traceback (most recent call last)",
      "\u001b[0;32m<ipython-input-93-3e2fafe13127>\u001b[0m in \u001b[0;36m<module>\u001b[0;34m()\u001b[0m\n\u001b[1;32m      8\u001b[0m \u001b[0;32mprint\u001b[0m\u001b[0;34m(\u001b[0m\u001b[0mmylist\u001b[0m\u001b[0;34m.\u001b[0m\u001b[0mpopback\u001b[0m\u001b[0;34m(\u001b[0m\u001b[0;34m)\u001b[0m\u001b[0;34m)\u001b[0m\u001b[0;34m\u001b[0m\u001b[0m\n\u001b[1;32m      9\u001b[0m \u001b[0;32mprint\u001b[0m\u001b[0;34m(\u001b[0m\u001b[0mmylist\u001b[0m\u001b[0;34m.\u001b[0m\u001b[0mpopback\u001b[0m\u001b[0;34m(\u001b[0m\u001b[0;34m)\u001b[0m\u001b[0;34m)\u001b[0m\u001b[0;34m\u001b[0m\u001b[0m\n\u001b[0;32m---> 10\u001b[0;31m \u001b[0;32mprint\u001b[0m\u001b[0;34m(\u001b[0m\u001b[0mmylist\u001b[0m\u001b[0;34m.\u001b[0m\u001b[0mpopback\u001b[0m\u001b[0;34m(\u001b[0m\u001b[0;34m)\u001b[0m\u001b[0;34m)\u001b[0m\u001b[0;34m\u001b[0m\u001b[0m\n\u001b[0m",
      "\u001b[0;32m<ipython-input-92-3f88914748fc>\u001b[0m in \u001b[0;36mpopback\u001b[0;34m(self)\u001b[0m\n\u001b[1;32m     60\u001b[0m     \u001b[0;32mdef\u001b[0m \u001b[0mpopback\u001b[0m\u001b[0;34m(\u001b[0m\u001b[0mself\u001b[0m\u001b[0;34m)\u001b[0m\u001b[0;34m:\u001b[0m\u001b[0;34m\u001b[0m\u001b[0m\n\u001b[1;32m     61\u001b[0m         \u001b[0;32mif\u001b[0m \u001b[0mself\u001b[0m\u001b[0;34m.\u001b[0m\u001b[0mmyempty\u001b[0m\u001b[0;34m(\u001b[0m\u001b[0;34m)\u001b[0m\u001b[0;34m:\u001b[0m\u001b[0;34m\u001b[0m\u001b[0m\n\u001b[0;32m---> 62\u001b[0;31m             \u001b[0;32mraise\u001b[0m \u001b[0mmyerror\u001b[0m\u001b[0;34m(\u001b[0m\u001b[0;34m\"the linked list is empty\"\u001b[0m\u001b[0;34m)\u001b[0m\u001b[0;34m\u001b[0m\u001b[0m\n\u001b[0m\u001b[1;32m     63\u001b[0m         \u001b[0mvalue\u001b[0m \u001b[0;34m=\u001b[0m \u001b[0mself\u001b[0m\u001b[0;34m.\u001b[0m\u001b[0mtail\u001b[0m\u001b[0;34m.\u001b[0m\u001b[0mkey\u001b[0m\u001b[0;34m\u001b[0m\u001b[0m\n\u001b[1;32m     64\u001b[0m         \u001b[0;32mif\u001b[0m \u001b[0mself\u001b[0m\u001b[0;34m.\u001b[0m\u001b[0mhead\u001b[0m \u001b[0;34m==\u001b[0m \u001b[0mself\u001b[0m\u001b[0;34m.\u001b[0m\u001b[0mtail\u001b[0m\u001b[0;34m:\u001b[0m\u001b[0;31m#此时只有一个element\u001b[0m\u001b[0;34m\u001b[0m\u001b[0m\n",
      "\u001b[0;31mmyerror\u001b[0m: the linked list is empty"
     ]
    }
   ],
   "source": [
    "'''\n",
    "#test pushback and popback\n",
    "mylist = linkedlist()\n",
    "mylist.mysize()\n",
    "mylist.pushback(34)\n",
    "mylist.pushback(35)\n",
    "mylist.pushback(36)\n",
    "mylist.printlist()\n",
    "print(mylist.popback())\n",
    "print(mylist.popback())\n",
    "print(mylist.popback())\n",
    "print(mylist.popback())\n",
    "'''"
   ]
  },
  {
   "cell_type": "code",
   "execution_count": 113,
   "metadata": {},
   "outputs": [],
   "source": [
    "'''\n",
    "#test find\n",
    "mylist = linkedlist()\n",
    "mylist.mysize()\n",
    "mylist.pushback(34)\n",
    "mylist.pushback(35)\n",
    "mylist.pushback(36)\n",
    "mylist.find(36)\n",
    "'''"
   ]
  },
  {
   "cell_type": "code",
   "execution_count": 126,
   "metadata": {},
   "outputs": [
    {
     "name": "stdout",
     "output_type": "stream",
     "text": [
      "34 35 36 37\n",
      "34 37 35 36 37\n",
      "37\n"
     ]
    }
   ],
   "source": [
    "'''\n",
    "#test insert\n",
    "mylist = linkedlist()\n",
    "mylist.mysize()\n",
    "mylist.pushback(34)\n",
    "mylist.pushback(35)\n",
    "mylist.pushback(36)\n",
    "index,node = mylist.find(36)\n",
    "mylist.insert(node,37)\n",
    "mylist.printlist()\n",
    "\n",
    "mylist.insert(mylist.head,37)\n",
    "mylist.printlist()\n",
    "\n",
    "mylist = linkedlist()\n",
    "mylist.insert(None,37)\n",
    "mylist.printlist()\n",
    "'''"
   ]
  },
  {
   "cell_type": "code",
   "execution_count": null,
   "metadata": {},
   "outputs": [],
   "source": []
  }
 ],
 "metadata": {
  "kernelspec": {
   "display_name": "Python 2",
   "language": "python",
   "name": "python2"
  },
  "language_info": {
   "codemirror_mode": {
    "name": "ipython",
    "version": 2
   },
   "file_extension": ".py",
   "mimetype": "text/x-python",
   "name": "python",
   "nbconvert_exporter": "python",
   "pygments_lexer": "ipython2",
   "version": "2.7.17"
  }
 },
 "nbformat": 4,
 "nbformat_minor": 2
}
