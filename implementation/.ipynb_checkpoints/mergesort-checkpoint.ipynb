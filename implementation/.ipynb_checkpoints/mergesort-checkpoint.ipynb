{
 "cells": [
  {
   "cell_type": "code",
   "execution_count": 44,
   "metadata": {},
   "outputs": [],
   "source": [
    "#mergesort\n",
    "#not in-place for array need another array stable\n",
    "from __future__ import print_function #解决print问题\n",
    "'''\n",
    "def merge(left,right):\n",
    "    mergearray = [None]*(len(left)+len(right))\n",
    "    i =0; j =0\n",
    "    \n",
    "    #while (k < len(mergearray)):\n",
    "    #while(i < len(left), j <len+(right)):\n",
    "    #print(i)\n",
    "    for k in range(0,len(mergearray)):\n",
    "        \n",
    "        if i ==len(left):\n",
    "            mergearray[k] = right[j]\n",
    "            j = j+1\n",
    "            k = k+1\n",
    "            \n",
    "        elif j ==len(right):\n",
    "            mergearray[k] = left[i]\n",
    "            i = i+1\n",
    "            k = k+1\n",
    "            \n",
    "        elif(left[i]>right[j]):\n",
    "            mergearray[k] = right[j]\n",
    "            j = j+1\n",
    "            k = k+1\n",
    "        else:\n",
    "            mergearray[k] = left[i]\n",
    "            i = i+1\n",
    "            k = k+1\n",
    "    return mergearray\n",
    "'''\n",
    "def merge(left,right):\n",
    "    mergearray=[]\n",
    "    while left and right:\n",
    "        if left[0] < right[0]:\n",
    "            mergearray.append(left.pop(0))\n",
    "        else:\n",
    "            mergearray.append(right.pop(0))\n",
    "    mergearray = mergearray + left +right\n",
    "    return mergearray\n",
    "\n",
    "def mergesort(A):\n",
    "    if len(A) <= 1: #为recurision 设置底线\n",
    "        return A\n",
    "    else:\n",
    "        mid = len(A)//2\n",
    "    left = mergesort(A[:mid])\n",
    "    right = mergesort(A[mid:])\n",
    "    return merge(left,right)"
   ]
  },
  {
   "cell_type": "code",
   "execution_count": 45,
   "metadata": {},
   "outputs": [
    {
     "name": "stdout",
     "output_type": "stream",
     "text": [
      "2 3 4 6 8 17 4 6 8 17 6 8 17 34 3 7 45 7 45 3 34 7 45 7 45 7 34 45 7 45 34 45 7 45 3 4 6 8 17 4 6 8 17 6 8 17 34 3 7 45 7 45 3 34 7 45 7 45 7 34 45 7 45 34 45 7 45 4 6 8 17 4 6 8 17 6 8 17 34 3 7 45 7 45 3 34 7 45 7 45 7 34 45 7 45 34 45 7 45 6 8 17 4 6 8 17 6 8 17 34 3 7 45 7 45 3 34 7 45 7 45 7 34 45 7 45 34 45 7 45 8 17 4 6 8 17 6 8 17 34 3 7 45 7 45 3 34 7 45 7 45 7 34 45 7 45 34 45 7 45 17 4 6 8 17 6 8 17 34 3 7 45 7 45 3 34 7 45 7 45 7 34 45 7 45 34 45 7 45 4 6 8 17 6 8 17 34 3 7 45 7 45 3 34 7 45 7 45 7 34 45 7 45 34 45 7 45 6 8 17 6 8 17 34 3 7 45 7 45 3 34 7 45 7 45 7 34 45 7 45 34 45 7 45 8 17 6 8 17 34 3 7 45 7 45 3 34 7 45 7 45 7 34 45 7 45 34 45 7 45 17 6 8 17 34 3 7 45 7 45 3 34 7 45 7 45 7 34 45 7 45 34 45 7 45 6 8 17 34 3 7 45 7 45 3 34 7 45 7 45 7 34 45 7 45 34 45 7 45 8 17 34 3 7 45 7 45 3 34 7 45 7 45 7 34 45 7 45 34 45 7 45 17 34 3 7 45 7 45 3 34 7 45 7 45 7 34 45 7 45 34 45 7 45 \n"
     ]
    }
   ],
   "source": [
    "A=[6,4,3,8,17,34,2,7,45,3]\n",
    "B= mergesort(A)\n",
    "for i in B:\n",
    "    print(i,end = ' ')\n",
    "print()"
   ]
  },
  {
   "cell_type": "code",
   "execution_count": 41,
   "metadata": {},
   "outputs": [
    {
     "data": {
      "text/plain": [
       "6"
      ]
     },
     "execution_count": 41,
     "metadata": {},
     "output_type": "execute_result"
    }
   ],
   "source": [
    "A.pop(0)"
   ]
  },
  {
   "cell_type": "code",
   "execution_count": 3,
   "metadata": {},
   "outputs": [
    {
     "data": {
      "text/plain": [
       "[0, 1]"
      ]
     },
     "execution_count": 3,
     "metadata": {},
     "output_type": "execute_result"
    }
   ],
   "source": [
    "a = 12*None"
   ]
  },
  {
   "cell_type": "code",
   "execution_count": 5,
   "metadata": {},
   "outputs": [
    {
     "data": {
      "text/plain": [
       "[3, 4]"
      ]
     },
     "execution_count": 5,
     "metadata": {},
     "output_type": "execute_result"
    }
   ],
   "source": [
    "c"
   ]
  },
  {
   "cell_type": "code",
   "execution_count": null,
   "metadata": {},
   "outputs": [],
   "source": []
  }
 ],
 "metadata": {
  "kernelspec": {
   "display_name": "Python 2",
   "language": "python",
   "name": "python2"
  },
  "language_info": {
   "codemirror_mode": {
    "name": "ipython",
    "version": 2
   },
   "file_extension": ".py",
   "mimetype": "text/x-python",
   "name": "python",
   "nbconvert_exporter": "python",
   "pygments_lexer": "ipython2",
   "version": "2.7.17"
  }
 },
 "nbformat": 4,
 "nbformat_minor": 2
}
