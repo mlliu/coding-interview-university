{
 "cells": [
  {
   "cell_type": "code",
   "execution_count": null,
   "metadata": {},
   "outputs": [],
   "source": [
    "#use list as array\n",
    "#implementation of queue in array (Circular buffer)\n",
    "\n",
    "#区分缓冲区满or 空\n",
    "#https://zh.wikipedia.org/wiki/%E7%92%B0%E5%BD%A2%E7%B7%A9%E8%A1%9D%E5%8D%80\n",
    "#https://en.wikipedia.org/wiki/Circular_buffer\n",
    "\n",
    "#总是保持一个存储单元为空\n",
    "\n",
    "#缓冲区中总是有一个存储单元保持未使用状态。缓冲区最多存入 (size − 1 ) 个数据。\n",
    "#如果读写指针指向同一位置，则缓冲区为空。如果写指针位于读指针的相邻后一个位置，则缓冲区为满。\n",
    "#这种策略的优点是简单、粗暴；缺点是语义上实际可存数据量与缓冲区容量不一致，测试缓冲区是否满需要做取余数计算\n",
    "#用取余数实现循环\n",
    "\n",
    "#empty: write_size = read_size\n",
    "#full (self.write_index+1 - self.read_index)%self.size == 0\n",
    "#length (self.write_index+1 - self.read_index+self.size)%self.size"
   ]
  },
  {
   "cell_type": "code",
   "execution_count": 43,
   "metadata": {},
   "outputs": [],
   "source": [
    "from __future__ import print_function #解决print问题\n",
    "class myerror(Exception):\n",
    "    pass\n",
    "\n",
    "class queue_by_array():\n",
    "    def __init__(self,size=5):\n",
    "        self.size = size #fixed size array as a circular buffer\n",
    "        self.queue = [None]*self.size #use list as array\n",
    "        self.write_index = 0\n",
    "        self.read_index = 0 \n",
    "        \n",
    "    def empty(self):\n",
    "        tag = False\n",
    "        if self.write_index == self.read_index:\n",
    "            tag = True\n",
    "        return tag\n",
    "    \n",
    "    \n",
    "    #add key to queue  \n",
    "    def enqueue(self,key):\n",
    "        #判断一下queue是不是满了,如果写指针位于读指针的相邻后一个位置，则缓冲区为满。\n",
    "        if (self.write_index+1 - self.read_index)%self.size == 0: #整除,余数为０\n",
    "            raise myerror(\"the queue is full, can not add new elements\")\n",
    "        self.queue[self.write_index] = key\n",
    "        self.write_index = (self.write_index+1)%self.size\n",
    "        \n",
    "        \n",
    "    #remove and return the least recently-added element\n",
    "    def dequeue(self):\n",
    "        #if empty\n",
    "        if self.empty():\n",
    "            raise myerror(\"the queue is empty, can not remove any element\")\n",
    "        value = self.queue[self.read_index]\n",
    "        self.queue[self.read_index] = None\n",
    "        self.read_index = (self.read_index+1)%self.size\n",
    "        return value\n",
    "    \n",
    "    def print_queue(self):\n",
    "        for n in range(self.size):\n",
    "            print(self.queue[n],end = ',')\n",
    "        print()\n",
    "    "
   ]
  },
  {
   "cell_type": "code",
   "execution_count": 45,
   "metadata": {},
   "outputs": [
    {
     "name": "stdout",
     "output_type": "stream",
     "text": [
      "2,3,4,None,None,\n",
      "None,None,4,None,None,\n"
     ]
    }
   ],
   "source": [
    "#if __name__ == \"__main__\":\n",
    "myqueue = queue_by_array()\n",
    "myqueue.empty()\n",
    "for num in range(2,5):\n",
    "    myqueue.enqueue(num)\n",
    "myqueue.print_queue()\n",
    "\n",
    "myqueue.dequeue()\n",
    "myqueue.dequeue()\n",
    "myqueue.print_queue()"
   ]
  },
  {
   "cell_type": "code",
   "execution_count": 35,
   "metadata": {},
   "outputs": [
    {
     "name": "stdout",
     "output_type": "stream",
     "text": [
      "2\n",
      "3\n",
      "4\n",
      "5\n",
      "6\n",
      "7\n"
     ]
    },
    {
     "ename": "myerror",
     "evalue": "the queue is empty, can not remove any element",
     "output_type": "error",
     "traceback": [
      "\u001b[0;31m---------------------------------------------------------------------------\u001b[0m",
      "\u001b[0;31mmyerror\u001b[0m                                   Traceback (most recent call last)",
      "\u001b[0;32m<ipython-input-35-42efc198366d>\u001b[0m in \u001b[0;36m<module>\u001b[0;34m()\u001b[0m\n\u001b[1;32m     14\u001b[0m \u001b[0;32mprint\u001b[0m\u001b[0;34m(\u001b[0m\u001b[0mmyqueue\u001b[0m\u001b[0;34m.\u001b[0m\u001b[0mdequeue\u001b[0m\u001b[0;34m(\u001b[0m\u001b[0;34m)\u001b[0m\u001b[0;34m)\u001b[0m\u001b[0;34m\u001b[0m\u001b[0m\n\u001b[1;32m     15\u001b[0m \u001b[0;32mprint\u001b[0m\u001b[0;34m(\u001b[0m\u001b[0mmyqueue\u001b[0m\u001b[0;34m.\u001b[0m\u001b[0mdequeue\u001b[0m\u001b[0;34m(\u001b[0m\u001b[0;34m)\u001b[0m\u001b[0;34m)\u001b[0m\u001b[0;34m\u001b[0m\u001b[0m\n\u001b[0;32m---> 16\u001b[0;31m \u001b[0;32mprint\u001b[0m\u001b[0;34m(\u001b[0m\u001b[0mmyqueue\u001b[0m\u001b[0;34m.\u001b[0m\u001b[0mdequeue\u001b[0m\u001b[0;34m(\u001b[0m\u001b[0;34m)\u001b[0m\u001b[0;34m)\u001b[0m\u001b[0;34m\u001b[0m\u001b[0m\n\u001b[0m",
      "\u001b[0;32m<ipython-input-28-4a716b40b88c>\u001b[0m in \u001b[0;36mdequeue\u001b[0;34m(self)\u001b[0m\n\u001b[1;32m     29\u001b[0m         \u001b[0;31m#if empty\u001b[0m\u001b[0;34m\u001b[0m\u001b[0;34m\u001b[0m\u001b[0m\n\u001b[1;32m     30\u001b[0m         \u001b[0;32mif\u001b[0m \u001b[0mself\u001b[0m\u001b[0;34m.\u001b[0m\u001b[0mempty\u001b[0m\u001b[0;34m(\u001b[0m\u001b[0;34m)\u001b[0m\u001b[0;34m:\u001b[0m\u001b[0;34m\u001b[0m\u001b[0m\n\u001b[0;32m---> 31\u001b[0;31m             \u001b[0;32mraise\u001b[0m \u001b[0mmyerror\u001b[0m\u001b[0;34m(\u001b[0m\u001b[0;34m\"the queue is empty, can not remove any element\"\u001b[0m\u001b[0;34m)\u001b[0m\u001b[0;34m\u001b[0m\u001b[0m\n\u001b[0m\u001b[1;32m     32\u001b[0m         \u001b[0mvalue\u001b[0m \u001b[0;34m=\u001b[0m \u001b[0mself\u001b[0m\u001b[0;34m.\u001b[0m\u001b[0mqueue\u001b[0m\u001b[0;34m[\u001b[0m\u001b[0mself\u001b[0m\u001b[0;34m.\u001b[0m\u001b[0mread_index\u001b[0m\u001b[0;34m]\u001b[0m\u001b[0;34m\u001b[0m\u001b[0m\n\u001b[1;32m     33\u001b[0m         \u001b[0mself\u001b[0m\u001b[0;34m.\u001b[0m\u001b[0mread_index\u001b[0m \u001b[0;34m=\u001b[0m \u001b[0;34m(\u001b[0m\u001b[0mself\u001b[0m\u001b[0;34m.\u001b[0m\u001b[0mread_index\u001b[0m\u001b[0;34m+\u001b[0m\u001b[0;36m1\u001b[0m\u001b[0;34m)\u001b[0m\u001b[0;34m%\u001b[0m\u001b[0mself\u001b[0m\u001b[0;34m.\u001b[0m\u001b[0msize\u001b[0m\u001b[0;34m\u001b[0m\u001b[0m\n",
      "\u001b[0;31mmyerror\u001b[0m: the queue is empty, can not remove any element"
     ]
    }
   ],
   "source": [
    "myqueue.enqueue(2)\n",
    "myqueue.enqueue(3)\n",
    "myqueue.enqueue(4)\n",
    "myqueue.enqueue(5)\n",
    "#myqueue.enqueue(6)\n",
    "print(myqueue.dequeue())\n",
    "print(myqueue.dequeue())\n",
    "myqueue.enqueue(6)\n",
    "myqueue.enqueue(7)\n",
    "#myqueue.enqueue(8)\n",
    "\n",
    "print(myqueue.dequeue())\n",
    "print(myqueue.dequeue())\n",
    "print(myqueue.dequeue())\n",
    "print(myqueue.dequeue())\n",
    "print(myqueue.dequeue())"
   ]
  },
  {
   "cell_type": "code",
   "execution_count": 19,
   "metadata": {},
   "outputs": [
    {
     "data": {
      "text/plain": [
       "1"
      ]
     },
     "execution_count": 19,
     "metadata": {},
     "output_type": "execute_result"
    }
   ],
   "source": []
  },
  {
   "cell_type": "code",
   "execution_count": null,
   "metadata": {},
   "outputs": [],
   "source": []
  }
 ],
 "metadata": {
  "kernelspec": {
   "display_name": "Python 2",
   "language": "python",
   "name": "python2"
  },
  "language_info": {
   "codemirror_mode": {
    "name": "ipython",
    "version": 2
   },
   "file_extension": ".py",
   "mimetype": "text/x-python",
   "name": "python",
   "nbconvert_exporter": "python",
   "pygments_lexer": "ipython2",
   "version": "2.7.17"
  }
 },
 "nbformat": 4,
 "nbformat_minor": 2
}
