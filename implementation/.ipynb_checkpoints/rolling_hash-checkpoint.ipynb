{
 "cells": [
  {
   "cell_type": "code",
   "execution_count": null,
   "metadata": {},
   "outputs": [],
   "source": [
    "\n"
   ]
  },
  {
   "cell_type": "code",
   "execution_count": null,
   "metadata": {},
   "outputs": [],
   "source": [
    "#question: String match\n",
    "#given two strings s&t\n",
    "#does s occur as a substring of t?"
   ]
  },
  {
   "cell_type": "code",
   "execution_count": 32,
   "metadata": {},
   "outputs": [],
   "source": [
    "import math\n",
    "class rolling_hash(object):\n",
    "    \n",
    "    def __init__(self,base,m):\n",
    "        self.a = base\n",
    "        self.u = 0 #treat string X as multidigit number u in base a \n",
    "        self.m = m #the size of hash table ,need to be a prime >=|s|\n",
    "        self.rollinghashvalue = 0\n",
    "        #return self.rollinghashvalue\n",
    "        \n",
    "    def append(self,char):\n",
    "        self.u = self.u * self.a + ord(char)\n",
    "        self.rollinghashvalue = self.u % self.m\n",
    "        return self.rollinghashvalue\n",
    "    \n",
    "    def skip(self,char,lengthofstring):\n",
    "        self.u = self.u - ord(char) * math.pow(self.a,lengthofstring-1) \n",
    "        self.rollinghashvalue = self.u % self.m \n",
    "        return self.rollinghashvalue\n",
    "\n"
   ]
  },
  {
   "cell_type": "code",
   "execution_count": 43,
   "metadata": {},
   "outputs": [],
   "source": [
    "\n",
    "def Karp_Rabin_algorthim(s,t):\n",
    "    base = 256 #ascii 编码方式２５６位\n",
    "    mod = 103  #大于len(s)的质数\n",
    "    \n",
    "    #build rolling_hash for string s\n",
    "    rs = rolling_hash(base,mod)\n",
    "    for char in s:\n",
    "        rs.append(char)\n",
    "    \n",
    "    #build rolling hash for string t\n",
    "    rt = rolling_hash(base,mod)\n",
    "    for char in t[:len(s)]:\n",
    "        rt.append(char)\n",
    "    if rs.rollinghashvalue == rt.rollinghashvalue:\n",
    "        return True\n",
    "    \n",
    "    #先skip 再append,先append再skip,长度要加１\n",
    "    for i in range(len(s),len(t)):\n",
    "        #rt.skip(t[i-len(s)],len(s))\n",
    "        rt.append(t[i])\n",
    "        rt.skip(t[i-len(s)],len(s)+1)\n",
    "        if (rs.rollinghashvalue == rt.rollinghashvalue) and (s == t[i-len(s)+1:i+1]):\n",
    "            return True\n",
    "        \n",
    "    return False\n",
    "        "
   ]
  },
  {
   "cell_type": "code",
   "execution_count": 45,
   "metadata": {},
   "outputs": [
    {
     "name": "stdout",
     "output_type": "stream",
     "text": [
      "True\n"
     ]
    }
   ],
   "source": [
    "if __name__ == \"__main__\":\n",
    "    s = 'mist'\n",
    "    t = 'myalgorithmistrue'\n",
    "    \n",
    "    print(Karp_Rabin_algorthim(s,t))"
   ]
  },
  {
   "cell_type": "code",
   "execution_count": 22,
   "metadata": {},
   "outputs": [
    {
     "data": {
      "text/plain": [
       "'mis'"
      ]
     },
     "execution_count": 22,
     "metadata": {},
     "output_type": "execute_result"
    }
   ],
   "source": [
    "s = 'mist'\n",
    "s[:3]"
   ]
  },
  {
   "cell_type": "code",
   "execution_count": 23,
   "metadata": {},
   "outputs": [
    {
     "data": {
      "text/plain": [
       "[0, 1, 2, 3, 4]"
      ]
     },
     "execution_count": 23,
     "metadata": {},
     "output_type": "execute_result"
    }
   ],
   "source": [
    "range(0,5)"
   ]
  },
  {
   "cell_type": "code",
   "execution_count": null,
   "metadata": {},
   "outputs": [],
   "source": [
    "#leetcode question\n",
    "#All DNA is composed of a series of nucleotides abbreviated as A, C, G, and T, for example: \"ACGAATTCCG\". \n",
    "#When studying DNA, it is sometimes useful to identify repeated sequences within the DNA.\n",
    "#Write a function to find all the 10-letter-long sequences (substrings) that occur more than once in a DNA molecule.\n",
    "\n",
    "#Example:\n",
    "\n",
    "#Input: s = \"AAAAACCCCCAAAAACCCCCCAAAAAGGGTTT\"\n",
    "\n",
    "#Output: [\"AAAAACCCCC\", \"CCCCCAAAAA\"]"
   ]
  },
  {
   "cell_type": "code",
   "execution_count": null,
   "metadata": {},
   "outputs": [],
   "source": []
  }
 ],
 "metadata": {
  "kernelspec": {
   "display_name": "Python 2",
   "language": "python",
   "name": "python2"
  },
  "language_info": {
   "codemirror_mode": {
    "name": "ipython",
    "version": 2
   },
   "file_extension": ".py",
   "mimetype": "text/x-python",
   "name": "python",
   "nbconvert_exporter": "python",
   "pygments_lexer": "ipython2",
   "version": "2.7.17"
  }
 },
 "nbformat": 4,
 "nbformat_minor": 2
}
