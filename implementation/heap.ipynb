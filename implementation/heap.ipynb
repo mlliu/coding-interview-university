{
 "cells": [
  {
   "cell_type": "code",
   "execution_count": 1,
   "metadata": {},
   "outputs": [],
   "source": [
    "#heap/priority queue/binary heap"
   ]
  },
  {
   "cell_type": "code",
   "execution_count": 50,
   "metadata": {},
   "outputs": [],
   "source": [
    "class myeror(Exception):\n",
    "    pass\n",
    "from __future__ import print_function #解决print问题\n",
    "\n",
    "\n",
    "class heap(object):\n",
    "    def __init__(self,maxsize):\n",
    "        self.maxsize = maxsize\n",
    "        self.size = 0\n",
    "        self.heaparray = [None]*self.maxsize\n",
    "        \n",
    "    \n",
    "        \n",
    "    def parents(self,size):\n",
    "        return (size-1)/2\n",
    "    \n",
    "    def leftchild(self,size):\n",
    "        return size*2+1\n",
    "    \n",
    "    def rightchild(self,size):\n",
    "        return size*2+2\n",
    "    \n",
    "    def swap(self,a,b):\n",
    "       # temp = a\n",
    "       # a = b\n",
    "       # b = temp\n",
    "        return b,a\n",
    "        \n",
    "    def sift_up(self,p_size):\n",
    "        \n",
    "        while (p_size >0) and (self.heaparray[p_size]  > self.heaparray[self.parents(p_size)]):\n",
    "            self.heaparray[p_size],self.heaparray[self.parents(p_size)] = self.heaparray[self.parents(p_size)],self.heaparray[p_size]\n",
    "            p_size = self.parents(p_size)\n",
    "    def sift_down(self, p_size):\n",
    "        \n",
    "        while p_size < self.size:\n",
    "            maxindex = p_size\n",
    "            if self.leftchild(p_size) < self.size and self.heaparray[p_size]  < self.heaparray[self.leftchild(p_size)]:\n",
    "                maxindex = self.leftchild(p_size)\n",
    "            if self.rightchild(p_size) <self.size and self.heaparray[maxindex]  < self.heaparray[self.rightchild(p_size)]:\n",
    "                maxindex = self.rightchild(p_size)\n",
    "            \n",
    "            if maxindex == p_size:\n",
    "                break\n",
    "            self.heaparray[p_size],self.heaparray[maxindex] = self.heaparray[maxindex],self.heaparray[p_size]\n",
    "            \n",
    "            p_size = maxindex\n",
    "            \n",
    "    def heap_insert(self,p):\n",
    "        if self.size == self.maxsize:\n",
    "            return myerror(\"the heap is full\")\n",
    "        \n",
    "        self.heaparray[self.size] = p\n",
    "        self.sift_up(self.size)\n",
    "        self.size = self.size +1\n",
    "        \n",
    "    def heap_print(self):\n",
    "        for i in range(self.size):\n",
    "            print(self.heaparray[i],end = ' ')\n",
    "        print()\n",
    "     \n",
    "    #get_max - returns the max item, without removing it\n",
    "    def get_max(self):\n",
    "        return self.heaparray[0]\n",
    "\n",
    "    #get_size() - return number of elements stored\n",
    "    def get_size(self):\n",
    "        return self.size\n",
    "    \n",
    "    #extract_max - returns the max item, removing it\n",
    "    def extractmax(self):\n",
    "        maxvalue = self.heaparray[0]\n",
    "        self.heaparray[0] = self.heaparray[self.size-1]\n",
    "        self.sift_down(0)\n",
    "        self.size = self.size -1\n",
    "        return maxvalue\n",
    "    #remove(i) - removes item at index x\n",
    "    def remove(self,index):\n",
    "        self.heaparray[index] = self.heaparray[self.size-1]\n",
    "        self.size = self.size - 1\n",
    "        self.sift_down(index)\n",
    "        #self.size = self.size - 1\n",
    "        \n",
    "    def remove_2(self,index):\n",
    "        self.heaparray[index] = float(\"inf\")\n",
    "        self.sift_up(index)\n",
    "        self.extractmax()\n",
    "       \n",
    "    def"
   ]
  },
  {
   "cell_type": "code",
   "execution_count": 54,
   "metadata": {},
   "outputs": [
    {
     "name": "stdout",
     "output_type": "stream",
     "text": [
      "10 5 9 2 1 3 \n",
      "9 5 3 2 1 \n",
      "9 5 1 2 \n"
     ]
    }
   ],
   "source": [
    "if __name__ == \"__main__\":\n",
    "    a = [2,5,3,9,1,10]\n",
    "    h = heap(maxsize=20)\n",
    "    for i in a:\n",
    "        h.heap_insert(i)\n",
    "    h.heap_print()\n",
    "    \n",
    "    h.extractmax()\n",
    "    h.heap_print()\n",
    "    \n",
    "    #h.remove(2)\n",
    "    h.remove_2(2)\n",
    "    h.heap_print()\n",
    "        "
   ]
  },
  {
   "cell_type": "code",
   "execution_count": 59,
   "metadata": {},
   "outputs": [
    {
     "name": "stdout",
     "output_type": "stream",
     "text": [
      "10 9 5 3 2 1 \n"
     ]
    }
   ],
   "source": [
    "#heapify - create a heap from an array of elements, needed for heap_sort\n",
    "#python 中，必须重新建一个heap\n",
    "def buildheap(a):\n",
    "    size = len(a)\n",
    "    h = heap(maxsize=size*2)\n",
    "    for i in a:\n",
    "        h.heap_insert(i)\n",
    "        \n",
    "    return h\n",
    "def heap_sort(a):\n",
    "    size = len(a)\n",
    "    h = buildheap(a)\n",
    "    for i in range(size):\n",
    "        a[i] = h.extractmax()\n",
    "\n",
    "    \n",
    "a = [2,5,3,9,1,10]\n",
    "heap_sort(a)\n",
    "for i in a:\n",
    "    print(i,end = ' ')\n",
    "    \n",
    "print()\n",
    "    "
   ]
  },
  {
   "cell_type": "code",
   "execution_count": 53,
   "metadata": {},
   "outputs": [
    {
     "name": "stdout",
     "output_type": "stream",
     "text": [
      "3 2\n"
     ]
    }
   ],
   "source": [
    "def swap(self,a,b):\n",
    "       \n",
    "    return b,a\n",
    "array=[1,2,3,4]\n",
    "#swap(array[1],array[2])\n",
    "array[1],array[2] = array[2],array[1]\n",
    "print(array[1],array[2])"
   ]
  },
  {
   "cell_type": "code",
   "execution_count": 57,
   "metadata": {},
   "outputs": [
    {
     "data": {
      "text/plain": [
       "[0, 1, 2]"
      ]
     },
     "execution_count": 57,
     "metadata": {},
     "output_type": "execute_result"
    }
   ],
   "source": [
    "range(3)"
   ]
  },
  {
   "cell_type": "code",
   "execution_count": null,
   "metadata": {},
   "outputs": [],
   "source": []
  }
 ],
 "metadata": {
  "kernelspec": {
   "display_name": "Python 2",
   "language": "python",
   "name": "python2"
  },
  "language_info": {
   "codemirror_mode": {
    "name": "ipython",
    "version": 2
   },
   "file_extension": ".py",
   "mimetype": "text/x-python",
   "name": "python",
   "nbconvert_exporter": "python",
   "pygments_lexer": "ipython2",
   "version": "2.7.17"
  }
 },
 "nbformat": 4,
 "nbformat_minor": 2
}
